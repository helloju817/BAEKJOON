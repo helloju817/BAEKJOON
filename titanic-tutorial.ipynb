{
 "cells": [
  {
   "cell_type": "code",
   "execution_count": 1,
   "id": "bdd83439",
   "metadata": {
    "_cell_guid": "e7e0693b-c369-41ee-bd5c-1fa4dfa1b17a",
    "_uuid": "c6a1730e-5fa4-4c0d-bad8-6b9fdb6e31f5",
    "collapsed": false,
    "execution": {
     "iopub.execute_input": "2024-05-03T14:54:54.110284Z",
     "iopub.status.busy": "2024-05-03T14:54:54.109577Z",
     "iopub.status.idle": "2024-05-03T14:54:54.826304Z",
     "shell.execute_reply": "2024-05-03T14:54:54.825282Z"
    },
    "jupyter": {
     "outputs_hidden": false
    },
    "papermill": {
     "duration": 0.724712,
     "end_time": "2024-05-03T14:54:54.828448",
     "exception": false,
     "start_time": "2024-05-03T14:54:54.103736",
     "status": "completed"
    },
    "tags": []
   },
   "outputs": [
    {
     "name": "stdout",
     "output_type": "stream",
     "text": [
      "/kaggle/input/titanic/train.csv\n",
      "/kaggle/input/titanic/test.csv\n",
      "/kaggle/input/titanic/gender_submission.csv\n"
     ]
    }
   ],
   "source": [
    "# This Python 3 environment comes with many helpful analytics libraries installed\n",
    "# It is defined by the kaggle/python Docker image: https://github.com/kaggle/docker-python\n",
    "# For example, here's several helpful packages to load\n",
    "\n",
    "import numpy as np # linear algebra\n",
    "import pandas as pd # data processing, CSV file I/O (e.g. pd.read_csv)\n",
    "\n",
    "# Input data files are available in the read-only \"../input/\" directory\n",
    "# For example, running this (by clicking run or pressing Shift+Enter) will list all files under the input directory\n",
    "\n",
    "import os\n",
    "for dirname, _, filenames in os.walk('/kaggle/input'):\n",
    "    for filename in filenames:\n",
    "        print(os.path.join(dirname, filename))\n",
    "\n",
    "# You can write up to 20GB to the current directory (/kaggle/working/) that gets preserved as output when you create a version using \"Save & Run All\" \n",
    "# You can also write temporary files to /kaggle/temp/, but they won't be saved outside of the current session"
   ]
  },
  {
   "cell_type": "code",
   "execution_count": 2,
   "id": "a636894e",
   "metadata": {
    "execution": {
     "iopub.execute_input": "2024-05-03T14:54:54.839131Z",
     "iopub.status.busy": "2024-05-03T14:54:54.837961Z",
     "iopub.status.idle": "2024-05-03T14:54:54.863525Z",
     "shell.execute_reply": "2024-05-03T14:54:54.862564Z"
    },
    "papermill": {
     "duration": 0.03321,
     "end_time": "2024-05-03T14:54:54.865903",
     "exception": false,
     "start_time": "2024-05-03T14:54:54.832693",
     "status": "completed"
    },
    "tags": []
   },
   "outputs": [],
   "source": [
    "train_data = pd.read_csv(\"/kaggle/input/titanic/train.csv\")\n",
    "test_data = pd.read_csv(\"/kaggle/input/titanic/test.csv\")"
   ]
  },
  {
   "cell_type": "code",
   "execution_count": 3,
   "id": "31bd7725",
   "metadata": {
    "execution": {
     "iopub.execute_input": "2024-05-03T14:54:54.875281Z",
     "iopub.status.busy": "2024-05-03T14:54:54.874388Z",
     "iopub.status.idle": "2024-05-03T14:54:54.899028Z",
     "shell.execute_reply": "2024-05-03T14:54:54.898182Z"
    },
    "papermill": {
     "duration": 0.031626,
     "end_time": "2024-05-03T14:54:54.901310",
     "exception": false,
     "start_time": "2024-05-03T14:54:54.869684",
     "status": "completed"
    },
    "tags": []
   },
   "outputs": [
    {
     "data": {
      "text/html": [
       "<div>\n",
       "<style scoped>\n",
       "    .dataframe tbody tr th:only-of-type {\n",
       "        vertical-align: middle;\n",
       "    }\n",
       "\n",
       "    .dataframe tbody tr th {\n",
       "        vertical-align: top;\n",
       "    }\n",
       "\n",
       "    .dataframe thead th {\n",
       "        text-align: right;\n",
       "    }\n",
       "</style>\n",
       "<table border=\"1\" class=\"dataframe\">\n",
       "  <thead>\n",
       "    <tr style=\"text-align: right;\">\n",
       "      <th></th>\n",
       "      <th>PassengerId</th>\n",
       "      <th>Survived</th>\n",
       "      <th>Pclass</th>\n",
       "      <th>Name</th>\n",
       "      <th>Sex</th>\n",
       "      <th>Age</th>\n",
       "      <th>SibSp</th>\n",
       "      <th>Parch</th>\n",
       "      <th>Ticket</th>\n",
       "      <th>Fare</th>\n",
       "      <th>Cabin</th>\n",
       "      <th>Embarked</th>\n",
       "    </tr>\n",
       "  </thead>\n",
       "  <tbody>\n",
       "    <tr>\n",
       "      <th>0</th>\n",
       "      <td>1</td>\n",
       "      <td>0</td>\n",
       "      <td>3</td>\n",
       "      <td>Braund, Mr. Owen Harris</td>\n",
       "      <td>male</td>\n",
       "      <td>22.0</td>\n",
       "      <td>1</td>\n",
       "      <td>0</td>\n",
       "      <td>A/5 21171</td>\n",
       "      <td>7.25</td>\n",
       "      <td>NaN</td>\n",
       "      <td>S</td>\n",
       "    </tr>\n",
       "  </tbody>\n",
       "</table>\n",
       "</div>"
      ],
      "text/plain": [
       "   PassengerId  Survived  Pclass                     Name   Sex   Age  SibSp  \\\n",
       "0            1         0       3  Braund, Mr. Owen Harris  male  22.0      1   \n",
       "\n",
       "   Parch     Ticket  Fare Cabin Embarked  \n",
       "0      0  A/5 21171  7.25   NaN        S  "
      ]
     },
     "execution_count": 3,
     "metadata": {},
     "output_type": "execute_result"
    }
   ],
   "source": [
    "train_data.head(1)"
   ]
  },
  {
   "cell_type": "code",
   "execution_count": 4,
   "id": "2e0848c1",
   "metadata": {
    "execution": {
     "iopub.execute_input": "2024-05-03T14:54:54.911057Z",
     "iopub.status.busy": "2024-05-03T14:54:54.910421Z",
     "iopub.status.idle": "2024-05-03T14:54:54.922636Z",
     "shell.execute_reply": "2024-05-03T14:54:54.921684Z"
    },
    "papermill": {
     "duration": 0.019869,
     "end_time": "2024-05-03T14:54:54.925321",
     "exception": false,
     "start_time": "2024-05-03T14:54:54.905452",
     "status": "completed"
    },
    "tags": []
   },
   "outputs": [
    {
     "data": {
      "text/html": [
       "<div>\n",
       "<style scoped>\n",
       "    .dataframe tbody tr th:only-of-type {\n",
       "        vertical-align: middle;\n",
       "    }\n",
       "\n",
       "    .dataframe tbody tr th {\n",
       "        vertical-align: top;\n",
       "    }\n",
       "\n",
       "    .dataframe thead th {\n",
       "        text-align: right;\n",
       "    }\n",
       "</style>\n",
       "<table border=\"1\" class=\"dataframe\">\n",
       "  <thead>\n",
       "    <tr style=\"text-align: right;\">\n",
       "      <th></th>\n",
       "      <th>PassengerId</th>\n",
       "      <th>Pclass</th>\n",
       "      <th>Name</th>\n",
       "      <th>Sex</th>\n",
       "      <th>Age</th>\n",
       "      <th>SibSp</th>\n",
       "      <th>Parch</th>\n",
       "      <th>Ticket</th>\n",
       "      <th>Fare</th>\n",
       "      <th>Cabin</th>\n",
       "      <th>Embarked</th>\n",
       "    </tr>\n",
       "  </thead>\n",
       "  <tbody>\n",
       "    <tr>\n",
       "      <th>0</th>\n",
       "      <td>892</td>\n",
       "      <td>3</td>\n",
       "      <td>Kelly, Mr. James</td>\n",
       "      <td>male</td>\n",
       "      <td>34.5</td>\n",
       "      <td>0</td>\n",
       "      <td>0</td>\n",
       "      <td>330911</td>\n",
       "      <td>7.8292</td>\n",
       "      <td>NaN</td>\n",
       "      <td>Q</td>\n",
       "    </tr>\n",
       "  </tbody>\n",
       "</table>\n",
       "</div>"
      ],
      "text/plain": [
       "   PassengerId  Pclass              Name   Sex   Age  SibSp  Parch  Ticket  \\\n",
       "0          892       3  Kelly, Mr. James  male  34.5      0      0  330911   \n",
       "\n",
       "     Fare Cabin Embarked  \n",
       "0  7.8292   NaN        Q  "
      ]
     },
     "execution_count": 4,
     "metadata": {},
     "output_type": "execute_result"
    }
   ],
   "source": [
    "test_data.head(1)"
   ]
  },
  {
   "cell_type": "markdown",
   "id": "4d730ca1",
   "metadata": {
    "papermill": {
     "duration": 0.004033,
     "end_time": "2024-05-03T14:54:54.934046",
     "exception": false,
     "start_time": "2024-05-03T14:54:54.930013",
     "status": "completed"
    },
    "tags": []
   },
   "source": [
    "# EDA"
   ]
  },
  {
   "cell_type": "code",
   "execution_count": 5,
   "id": "9748cb0d",
   "metadata": {
    "execution": {
     "iopub.execute_input": "2024-05-03T14:54:54.944128Z",
     "iopub.status.busy": "2024-05-03T14:54:54.943795Z",
     "iopub.status.idle": "2024-05-03T14:54:54.955050Z",
     "shell.execute_reply": "2024-05-03T14:54:54.953924Z"
    },
    "papermill": {
     "duration": 0.018692,
     "end_time": "2024-05-03T14:54:54.956931",
     "exception": false,
     "start_time": "2024-05-03T14:54:54.938239",
     "status": "completed"
    },
    "tags": []
   },
   "outputs": [
    {
     "name": "stdout",
     "output_type": "stream",
     "text": [
      "여성의 생존 확률(%) 0.7420382165605095\n"
     ]
    }
   ],
   "source": [
    "women = train_data.loc[train_data.Sex =='female'][\"Survived\"]\n",
    "rate_women = sum(women)/len(women)\n",
    "\n",
    "print(\"여성의 생존 확률(%)\", rate_women)"
   ]
  },
  {
   "cell_type": "code",
   "execution_count": 6,
   "id": "64fc6ae5",
   "metadata": {
    "execution": {
     "iopub.execute_input": "2024-05-03T14:54:54.967162Z",
     "iopub.status.busy": "2024-05-03T14:54:54.966367Z",
     "iopub.status.idle": "2024-05-03T14:54:54.973163Z",
     "shell.execute_reply": "2024-05-03T14:54:54.972290Z"
    },
    "papermill": {
     "duration": 0.013903,
     "end_time": "2024-05-03T14:54:54.975051",
     "exception": false,
     "start_time": "2024-05-03T14:54:54.961148",
     "status": "completed"
    },
    "tags": []
   },
   "outputs": [
    {
     "name": "stdout",
     "output_type": "stream",
     "text": [
      "남성의 생존 확률(%) 0.18890814558058924\n"
     ]
    }
   ],
   "source": [
    "men = train_data.loc[train_data.Sex =='male'][\"Survived\"]\n",
    "rate_men = sum(men)/len(men)\n",
    "\n",
    "print(\"남성의 생존 확률(%)\", rate_men)"
   ]
  },
  {
   "cell_type": "code",
   "execution_count": 7,
   "id": "926de0f7",
   "metadata": {
    "execution": {
     "iopub.execute_input": "2024-05-03T14:54:54.985546Z",
     "iopub.status.busy": "2024-05-03T14:54:54.985025Z",
     "iopub.status.idle": "2024-05-03T14:54:55.003979Z",
     "shell.execute_reply": "2024-05-03T14:54:55.002987Z"
    },
    "papermill": {
     "duration": 0.026937,
     "end_time": "2024-05-03T14:54:55.006329",
     "exception": false,
     "start_time": "2024-05-03T14:54:54.979392",
     "status": "completed"
    },
    "tags": []
   },
   "outputs": [
    {
     "name": "stdout",
     "output_type": "stream",
     "text": [
      "<class 'pandas.core.frame.DataFrame'>\n",
      "RangeIndex: 891 entries, 0 to 890\n",
      "Data columns (total 12 columns):\n",
      " #   Column       Non-Null Count  Dtype  \n",
      "---  ------       --------------  -----  \n",
      " 0   PassengerId  891 non-null    int64  \n",
      " 1   Survived     891 non-null    int64  \n",
      " 2   Pclass       891 non-null    int64  \n",
      " 3   Name         891 non-null    object \n",
      " 4   Sex          891 non-null    object \n",
      " 5   Age          714 non-null    float64\n",
      " 6   SibSp        891 non-null    int64  \n",
      " 7   Parch        891 non-null    int64  \n",
      " 8   Ticket       891 non-null    object \n",
      " 9   Fare         891 non-null    float64\n",
      " 10  Cabin        204 non-null    object \n",
      " 11  Embarked     889 non-null    object \n",
      "dtypes: float64(2), int64(5), object(5)\n",
      "memory usage: 83.7+ KB\n"
     ]
    }
   ],
   "source": [
    "train_data.info()"
   ]
  },
  {
   "cell_type": "code",
   "execution_count": 8,
   "id": "a7d47dbd",
   "metadata": {
    "execution": {
     "iopub.execute_input": "2024-05-03T14:54:55.016754Z",
     "iopub.status.busy": "2024-05-03T14:54:55.016420Z",
     "iopub.status.idle": "2024-05-03T14:54:55.026780Z",
     "shell.execute_reply": "2024-05-03T14:54:55.025936Z"
    },
    "papermill": {
     "duration": 0.017709,
     "end_time": "2024-05-03T14:54:55.028559",
     "exception": false,
     "start_time": "2024-05-03T14:54:55.010850",
     "status": "completed"
    },
    "tags": []
   },
   "outputs": [
    {
     "data": {
      "text/plain": [
       "PassengerId    891\n",
       "Survived         2\n",
       "Pclass           3\n",
       "Name           891\n",
       "Sex              2\n",
       "Age             88\n",
       "SibSp            7\n",
       "Parch            7\n",
       "Ticket         681\n",
       "Fare           248\n",
       "Cabin          147\n",
       "Embarked         3\n",
       "dtype: int64"
      ]
     },
     "execution_count": 8,
     "metadata": {},
     "output_type": "execute_result"
    }
   ],
   "source": [
    "train_data.nunique() #Pclass: 1등급/2등급/3등급 -> 범주형 -> one-hot encoding"
   ]
  },
  {
   "cell_type": "markdown",
   "id": "9ec90c1f",
   "metadata": {
    "papermill": {
     "duration": 0.00417,
     "end_time": "2024-05-03T14:54:55.037197",
     "exception": false,
     "start_time": "2024-05-03T14:54:55.033027",
     "status": "completed"
    },
    "tags": []
   },
   "source": [
    "# 모델 학습 & 예측"
   ]
  },
  {
   "cell_type": "code",
   "execution_count": 9,
   "id": "0b7354a1",
   "metadata": {
    "execution": {
     "iopub.execute_input": "2024-05-03T14:54:55.047696Z",
     "iopub.status.busy": "2024-05-03T14:54:55.046934Z",
     "iopub.status.idle": "2024-05-03T14:54:56.513428Z",
     "shell.execute_reply": "2024-05-03T14:54:56.512170Z"
    },
    "papermill": {
     "duration": 1.474257,
     "end_time": "2024-05-03T14:54:56.515852",
     "exception": false,
     "start_time": "2024-05-03T14:54:55.041595",
     "status": "completed"
    },
    "tags": []
   },
   "outputs": [],
   "source": [
    "from sklearn.ensemble import RandomForestClassifier\n",
    "\n",
    "y = train_data['Survived']\n",
    "features = [\"Pclass\", \"Sex\", \"SibSp\",\"Parch\"] #4개 컬럼만 선택\n",
    "#one-hot encoding\n",
    "X=pd.get_dummies(train_data[features])\n",
    "X_test = pd.get_dummies(test_data[features])\n",
    "\n",
    "model = RandomForestClassifier(n_estimators=100, max_depth =5, random_state=1)\n",
    "model.fit(X,y)\n",
    "predicitons = model.predict(X_test)"
   ]
  },
  {
   "cell_type": "code",
   "execution_count": 10,
   "id": "a0582edd",
   "metadata": {
    "execution": {
     "iopub.execute_input": "2024-05-03T14:54:56.527208Z",
     "iopub.status.busy": "2024-05-03T14:54:56.526600Z",
     "iopub.status.idle": "2024-05-03T14:54:56.531554Z",
     "shell.execute_reply": "2024-05-03T14:54:56.530870Z"
    },
    "papermill": {
     "duration": 0.012688,
     "end_time": "2024-05-03T14:54:56.533442",
     "exception": false,
     "start_time": "2024-05-03T14:54:56.520754",
     "status": "completed"
    },
    "tags": []
   },
   "outputs": [],
   "source": [
    "output=pd.DataFrame({'PassengerId' : test_data.PassengerId, 'Survived' : predicitons})"
   ]
  },
  {
   "cell_type": "code",
   "execution_count": 11,
   "id": "70ea788e",
   "metadata": {
    "execution": {
     "iopub.execute_input": "2024-05-03T14:54:56.544227Z",
     "iopub.status.busy": "2024-05-03T14:54:56.543667Z",
     "iopub.status.idle": "2024-05-03T14:54:56.551481Z",
     "shell.execute_reply": "2024-05-03T14:54:56.550497Z"
    },
    "papermill": {
     "duration": 0.015933,
     "end_time": "2024-05-03T14:54:56.553943",
     "exception": false,
     "start_time": "2024-05-03T14:54:56.538010",
     "status": "completed"
    },
    "tags": []
   },
   "outputs": [],
   "source": [
    "output.to_csv('submission.csv', index = False)"
   ]
  }
 ],
 "metadata": {
  "kaggle": {
   "accelerator": "none",
   "dataSources": [
    {
     "databundleVersionId": 26502,
     "sourceId": 3136,
     "sourceType": "competition"
    }
   ],
   "dockerImageVersionId": 30698,
   "isGpuEnabled": false,
   "isInternetEnabled": false,
   "language": "python",
   "sourceType": "notebook"
  },
  "kernelspec": {
   "display_name": "Python 3",
   "language": "python",
   "name": "python3"
  },
  "language_info": {
   "codemirror_mode": {
    "name": "ipython",
    "version": 3
   },
   "file_extension": ".py",
   "mimetype": "text/x-python",
   "name": "python",
   "nbconvert_exporter": "python",
   "pygments_lexer": "ipython3",
   "version": "3.10.13"
  },
  "papermill": {
   "default_parameters": {},
   "duration": 5.517537,
   "end_time": "2024-05-03T14:54:57.078576",
   "environment_variables": {},
   "exception": null,
   "input_path": "__notebook__.ipynb",
   "output_path": "__notebook__.ipynb",
   "parameters": {},
   "start_time": "2024-05-03T14:54:51.561039",
   "version": "2.5.0"
  }
 },
 "nbformat": 4,
 "nbformat_minor": 5
}
