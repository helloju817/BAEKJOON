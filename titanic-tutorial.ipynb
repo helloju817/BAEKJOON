{
 "cells": [
  {
   "cell_type": "code",
   "execution_count": 1,
   "id": "b62ad304",
   "metadata": {
    "_cell_guid": "e7e0693b-c369-41ee-bd5c-1fa4dfa1b17a",
    "_uuid": "c6a1730e-5fa4-4c0d-bad8-6b9fdb6e31f5",
    "collapsed": false,
    "execution": {
     "iopub.execute_input": "2024-05-03T14:55:26.781886Z",
     "iopub.status.busy": "2024-05-03T14:55:26.781001Z",
     "iopub.status.idle": "2024-05-03T14:55:27.694475Z",
     "shell.execute_reply": "2024-05-03T14:55:27.692871Z"
    },
    "jupyter": {
     "outputs_hidden": false
    },
    "papermill": {
     "duration": 0.925119,
     "end_time": "2024-05-03T14:55:27.698513",
     "exception": false,
     "start_time": "2024-05-03T14:55:26.773394",
     "status": "completed"
    },
    "tags": []
   },
   "outputs": [
    {
     "name": "stdout",
     "output_type": "stream",
     "text": [
      "/kaggle/input/titanic/train.csv\n",
      "/kaggle/input/titanic/test.csv\n",
      "/kaggle/input/titanic/gender_submission.csv\n"
     ]
    }
   ],
   "source": [
    "# This Python 3 environment comes with many helpful analytics libraries installed\n",
    "# It is defined by the kaggle/python Docker image: https://github.com/kaggle/docker-python\n",
    "# For example, here's several helpful packages to load\n",
    "\n",
    "import numpy as np # linear algebra\n",
    "import pandas as pd # data processing, CSV file I/O (e.g. pd.read_csv)\n",
    "\n",
    "# Input data files are available in the read-only \"../input/\" directory\n",
    "# For example, running this (by clicking run or pressing Shift+Enter) will list all files under the input directory\n",
    "\n",
    "import os\n",
    "for dirname, _, filenames in os.walk('/kaggle/input'):\n",
    "    for filename in filenames:\n",
    "        print(os.path.join(dirname, filename))\n",
    "\n",
    "# You can write up to 20GB to the current directory (/kaggle/working/) that gets preserved as output when you create a version using \"Save & Run All\" \n",
    "# You can also write temporary files to /kaggle/temp/, but they won't be saved outside of the current session"
   ]
  },
  {
   "cell_type": "code",
   "execution_count": 2,
   "id": "b04674b3",
   "metadata": {
    "execution": {
     "iopub.execute_input": "2024-05-03T14:55:27.712326Z",
     "iopub.status.busy": "2024-05-03T14:55:27.711428Z",
     "iopub.status.idle": "2024-05-03T14:55:27.744357Z",
     "shell.execute_reply": "2024-05-03T14:55:27.743179Z"
    },
    "papermill": {
     "duration": 0.042845,
     "end_time": "2024-05-03T14:55:27.747070",
     "exception": false,
     "start_time": "2024-05-03T14:55:27.704225",
     "status": "completed"
    },
    "tags": []
   },
   "outputs": [],
   "source": [
    "train_data = pd.read_csv(\"/kaggle/input/titanic/train.csv\")\n",
    "test_data = pd.read_csv(\"/kaggle/input/titanic/test.csv\")"
   ]
  },
  {
   "cell_type": "code",
   "execution_count": 3,
   "id": "35576445",
   "metadata": {
    "execution": {
     "iopub.execute_input": "2024-05-03T14:55:27.759904Z",
     "iopub.status.busy": "2024-05-03T14:55:27.759420Z",
     "iopub.status.idle": "2024-05-03T14:55:27.790956Z",
     "shell.execute_reply": "2024-05-03T14:55:27.789617Z"
    },
    "papermill": {
     "duration": 0.041691,
     "end_time": "2024-05-03T14:55:27.794164",
     "exception": false,
     "start_time": "2024-05-03T14:55:27.752473",
     "status": "completed"
    },
    "tags": []
   },
   "outputs": [
    {
     "data": {
      "text/html": [
       "<div>\n",
       "<style scoped>\n",
       "    .dataframe tbody tr th:only-of-type {\n",
       "        vertical-align: middle;\n",
       "    }\n",
       "\n",
       "    .dataframe tbody tr th {\n",
       "        vertical-align: top;\n",
       "    }\n",
       "\n",
       "    .dataframe thead th {\n",
       "        text-align: right;\n",
       "    }\n",
       "</style>\n",
       "<table border=\"1\" class=\"dataframe\">\n",
       "  <thead>\n",
       "    <tr style=\"text-align: right;\">\n",
       "      <th></th>\n",
       "      <th>PassengerId</th>\n",
       "      <th>Survived</th>\n",
       "      <th>Pclass</th>\n",
       "      <th>Name</th>\n",
       "      <th>Sex</th>\n",
       "      <th>Age</th>\n",
       "      <th>SibSp</th>\n",
       "      <th>Parch</th>\n",
       "      <th>Ticket</th>\n",
       "      <th>Fare</th>\n",
       "      <th>Cabin</th>\n",
       "      <th>Embarked</th>\n",
       "    </tr>\n",
       "  </thead>\n",
       "  <tbody>\n",
       "    <tr>\n",
       "      <th>0</th>\n",
       "      <td>1</td>\n",
       "      <td>0</td>\n",
       "      <td>3</td>\n",
       "      <td>Braund, Mr. Owen Harris</td>\n",
       "      <td>male</td>\n",
       "      <td>22.0</td>\n",
       "      <td>1</td>\n",
       "      <td>0</td>\n",
       "      <td>A/5 21171</td>\n",
       "      <td>7.25</td>\n",
       "      <td>NaN</td>\n",
       "      <td>S</td>\n",
       "    </tr>\n",
       "  </tbody>\n",
       "</table>\n",
       "</div>"
      ],
      "text/plain": [
       "   PassengerId  Survived  Pclass                     Name   Sex   Age  SibSp  \\\n",
       "0            1         0       3  Braund, Mr. Owen Harris  male  22.0      1   \n",
       "\n",
       "   Parch     Ticket  Fare Cabin Embarked  \n",
       "0      0  A/5 21171  7.25   NaN        S  "
      ]
     },
     "execution_count": 3,
     "metadata": {},
     "output_type": "execute_result"
    }
   ],
   "source": [
    "train_data.head(1)"
   ]
  },
  {
   "cell_type": "code",
   "execution_count": 4,
   "id": "b4b408cd",
   "metadata": {
    "execution": {
     "iopub.execute_input": "2024-05-03T14:55:27.807453Z",
     "iopub.status.busy": "2024-05-03T14:55:27.806749Z",
     "iopub.status.idle": "2024-05-03T14:55:27.823014Z",
     "shell.execute_reply": "2024-05-03T14:55:27.821920Z"
    },
    "papermill": {
     "duration": 0.026466,
     "end_time": "2024-05-03T14:55:27.826383",
     "exception": false,
     "start_time": "2024-05-03T14:55:27.799917",
     "status": "completed"
    },
    "tags": []
   },
   "outputs": [
    {
     "data": {
      "text/html": [
       "<div>\n",
       "<style scoped>\n",
       "    .dataframe tbody tr th:only-of-type {\n",
       "        vertical-align: middle;\n",
       "    }\n",
       "\n",
       "    .dataframe tbody tr th {\n",
       "        vertical-align: top;\n",
       "    }\n",
       "\n",
       "    .dataframe thead th {\n",
       "        text-align: right;\n",
       "    }\n",
       "</style>\n",
       "<table border=\"1\" class=\"dataframe\">\n",
       "  <thead>\n",
       "    <tr style=\"text-align: right;\">\n",
       "      <th></th>\n",
       "      <th>PassengerId</th>\n",
       "      <th>Pclass</th>\n",
       "      <th>Name</th>\n",
       "      <th>Sex</th>\n",
       "      <th>Age</th>\n",
       "      <th>SibSp</th>\n",
       "      <th>Parch</th>\n",
       "      <th>Ticket</th>\n",
       "      <th>Fare</th>\n",
       "      <th>Cabin</th>\n",
       "      <th>Embarked</th>\n",
       "    </tr>\n",
       "  </thead>\n",
       "  <tbody>\n",
       "    <tr>\n",
       "      <th>0</th>\n",
       "      <td>892</td>\n",
       "      <td>3</td>\n",
       "      <td>Kelly, Mr. James</td>\n",
       "      <td>male</td>\n",
       "      <td>34.5</td>\n",
       "      <td>0</td>\n",
       "      <td>0</td>\n",
       "      <td>330911</td>\n",
       "      <td>7.8292</td>\n",
       "      <td>NaN</td>\n",
       "      <td>Q</td>\n",
       "    </tr>\n",
       "  </tbody>\n",
       "</table>\n",
       "</div>"
      ],
      "text/plain": [
       "   PassengerId  Pclass              Name   Sex   Age  SibSp  Parch  Ticket  \\\n",
       "0          892       3  Kelly, Mr. James  male  34.5      0      0  330911   \n",
       "\n",
       "     Fare Cabin Embarked  \n",
       "0  7.8292   NaN        Q  "
      ]
     },
     "execution_count": 4,
     "metadata": {},
     "output_type": "execute_result"
    }
   ],
   "source": [
    "test_data.head(1)"
   ]
  },
  {
   "cell_type": "markdown",
   "id": "eb00e450",
   "metadata": {
    "papermill": {
     "duration": 0.006306,
     "end_time": "2024-05-03T14:55:27.838916",
     "exception": false,
     "start_time": "2024-05-03T14:55:27.832610",
     "status": "completed"
    },
    "tags": []
   },
   "source": [
    "# EDA"
   ]
  },
  {
   "cell_type": "code",
   "execution_count": 5,
   "id": "9fa5365f",
   "metadata": {
    "execution": {
     "iopub.execute_input": "2024-05-03T14:55:27.854182Z",
     "iopub.status.busy": "2024-05-03T14:55:27.853769Z",
     "iopub.status.idle": "2024-05-03T14:55:27.866657Z",
     "shell.execute_reply": "2024-05-03T14:55:27.865548Z"
    },
    "papermill": {
     "duration": 0.024002,
     "end_time": "2024-05-03T14:55:27.869738",
     "exception": false,
     "start_time": "2024-05-03T14:55:27.845736",
     "status": "completed"
    },
    "tags": []
   },
   "outputs": [
    {
     "name": "stdout",
     "output_type": "stream",
     "text": [
      "여성의 생존 확률(%) 0.7420382165605095\n"
     ]
    }
   ],
   "source": [
    "women = train_data.loc[train_data.Sex =='female'][\"Survived\"]\n",
    "rate_women = sum(women)/len(women)\n",
    "\n",
    "print(\"여성의 생존 확률(%)\", rate_women)"
   ]
  },
  {
   "cell_type": "code",
   "execution_count": 6,
   "id": "b7cdb790",
   "metadata": {
    "execution": {
     "iopub.execute_input": "2024-05-03T14:55:27.883703Z",
     "iopub.status.busy": "2024-05-03T14:55:27.883349Z",
     "iopub.status.idle": "2024-05-03T14:55:27.891645Z",
     "shell.execute_reply": "2024-05-03T14:55:27.889973Z"
    },
    "papermill": {
     "duration": 0.018021,
     "end_time": "2024-05-03T14:55:27.894046",
     "exception": false,
     "start_time": "2024-05-03T14:55:27.876025",
     "status": "completed"
    },
    "tags": []
   },
   "outputs": [
    {
     "name": "stdout",
     "output_type": "stream",
     "text": [
      "남성의 생존 확률(%) 0.18890814558058924\n"
     ]
    }
   ],
   "source": [
    "men = train_data.loc[train_data.Sex =='male'][\"Survived\"]\n",
    "rate_men = sum(men)/len(men)\n",
    "\n",
    "print(\"남성의 생존 확률(%)\", rate_men)"
   ]
  },
  {
   "cell_type": "code",
   "execution_count": 7,
   "id": "8329ea50",
   "metadata": {
    "execution": {
     "iopub.execute_input": "2024-05-03T14:55:27.907913Z",
     "iopub.status.busy": "2024-05-03T14:55:27.907407Z",
     "iopub.status.idle": "2024-05-03T14:55:27.931796Z",
     "shell.execute_reply": "2024-05-03T14:55:27.930632Z"
    },
    "papermill": {
     "duration": 0.034402,
     "end_time": "2024-05-03T14:55:27.934390",
     "exception": false,
     "start_time": "2024-05-03T14:55:27.899988",
     "status": "completed"
    },
    "tags": []
   },
   "outputs": [
    {
     "name": "stdout",
     "output_type": "stream",
     "text": [
      "<class 'pandas.core.frame.DataFrame'>\n",
      "RangeIndex: 891 entries, 0 to 890\n",
      "Data columns (total 12 columns):\n",
      " #   Column       Non-Null Count  Dtype  \n",
      "---  ------       --------------  -----  \n",
      " 0   PassengerId  891 non-null    int64  \n",
      " 1   Survived     891 non-null    int64  \n",
      " 2   Pclass       891 non-null    int64  \n",
      " 3   Name         891 non-null    object \n",
      " 4   Sex          891 non-null    object \n",
      " 5   Age          714 non-null    float64\n",
      " 6   SibSp        891 non-null    int64  \n",
      " 7   Parch        891 non-null    int64  \n",
      " 8   Ticket       891 non-null    object \n",
      " 9   Fare         891 non-null    float64\n",
      " 10  Cabin        204 non-null    object \n",
      " 11  Embarked     889 non-null    object \n",
      "dtypes: float64(2), int64(5), object(5)\n",
      "memory usage: 83.7+ KB\n"
     ]
    }
   ],
   "source": [
    "train_data.info()"
   ]
  },
  {
   "cell_type": "code",
   "execution_count": 8,
   "id": "ff358d9f",
   "metadata": {
    "execution": {
     "iopub.execute_input": "2024-05-03T14:55:27.949200Z",
     "iopub.status.busy": "2024-05-03T14:55:27.948776Z",
     "iopub.status.idle": "2024-05-03T14:55:27.961597Z",
     "shell.execute_reply": "2024-05-03T14:55:27.960524Z"
    },
    "papermill": {
     "duration": 0.023482,
     "end_time": "2024-05-03T14:55:27.964427",
     "exception": false,
     "start_time": "2024-05-03T14:55:27.940945",
     "status": "completed"
    },
    "tags": []
   },
   "outputs": [
    {
     "data": {
      "text/plain": [
       "PassengerId    891\n",
       "Survived         2\n",
       "Pclass           3\n",
       "Name           891\n",
       "Sex              2\n",
       "Age             88\n",
       "SibSp            7\n",
       "Parch            7\n",
       "Ticket         681\n",
       "Fare           248\n",
       "Cabin          147\n",
       "Embarked         3\n",
       "dtype: int64"
      ]
     },
     "execution_count": 8,
     "metadata": {},
     "output_type": "execute_result"
    }
   ],
   "source": [
    "train_data.nunique() #Pclass: 1등급/2등급/3등급 -> 범주형 -> one-hot encoding"
   ]
  },
  {
   "cell_type": "markdown",
   "id": "1c54e834",
   "metadata": {
    "papermill": {
     "duration": 0.006173,
     "end_time": "2024-05-03T14:55:27.977154",
     "exception": false,
     "start_time": "2024-05-03T14:55:27.970981",
     "status": "completed"
    },
    "tags": []
   },
   "source": [
    "# 모델 학습 & 예측"
   ]
  },
  {
   "cell_type": "code",
   "execution_count": 9,
   "id": "37b10da9",
   "metadata": {
    "execution": {
     "iopub.execute_input": "2024-05-03T14:55:27.992537Z",
     "iopub.status.busy": "2024-05-03T14:55:27.992109Z",
     "iopub.status.idle": "2024-05-03T14:55:30.069149Z",
     "shell.execute_reply": "2024-05-03T14:55:30.067953Z"
    },
    "papermill": {
     "duration": 2.08822,
     "end_time": "2024-05-03T14:55:30.072406",
     "exception": false,
     "start_time": "2024-05-03T14:55:27.984186",
     "status": "completed"
    },
    "tags": []
   },
   "outputs": [],
   "source": [
    "from sklearn.ensemble import RandomForestClassifier\n",
    "\n",
    "y = train_data['Survived']\n",
    "features = [\"Pclass\", \"Sex\", \"SibSp\",\"Parch\"] #4개 컬럼만 선택\n",
    "#one-hot encoding\n",
    "X=pd.get_dummies(train_data[features])\n",
    "X_test = pd.get_dummies(test_data[features])\n",
    "\n",
    "model = RandomForestClassifier(n_estimators=100, max_depth =5, random_state=1)\n",
    "model.fit(X,y)\n",
    "predicitons = model.predict(X_test)"
   ]
  },
  {
   "cell_type": "code",
   "execution_count": 10,
   "id": "4434d6e7",
   "metadata": {
    "execution": {
     "iopub.execute_input": "2024-05-03T14:55:30.090495Z",
     "iopub.status.busy": "2024-05-03T14:55:30.090022Z",
     "iopub.status.idle": "2024-05-03T14:55:30.096533Z",
     "shell.execute_reply": "2024-05-03T14:55:30.095231Z"
    },
    "papermill": {
     "duration": 0.018686,
     "end_time": "2024-05-03T14:55:30.099796",
     "exception": false,
     "start_time": "2024-05-03T14:55:30.081110",
     "status": "completed"
    },
    "tags": []
   },
   "outputs": [],
   "source": [
    "output=pd.DataFrame({'PassengerId' : test_data.PassengerId, 'Survived' : predicitons})"
   ]
  },
  {
   "cell_type": "code",
   "execution_count": 11,
   "id": "049eaf35",
   "metadata": {
    "execution": {
     "iopub.execute_input": "2024-05-03T14:55:30.114658Z",
     "iopub.status.busy": "2024-05-03T14:55:30.114196Z",
     "iopub.status.idle": "2024-05-03T14:55:30.124711Z",
     "shell.execute_reply": "2024-05-03T14:55:30.123363Z"
    },
    "papermill": {
     "duration": 0.021228,
     "end_time": "2024-05-03T14:55:30.127589",
     "exception": false,
     "start_time": "2024-05-03T14:55:30.106361",
     "status": "completed"
    },
    "tags": []
   },
   "outputs": [],
   "source": [
    "output.to_csv('submission.csv', index = False)"
   ]
  }
 ],
 "metadata": {
  "kaggle": {
   "accelerator": "none",
   "dataSources": [
    {
     "databundleVersionId": 26502,
     "sourceId": 3136,
     "sourceType": "competition"
    }
   ],
   "dockerImageVersionId": 30698,
   "isGpuEnabled": false,
   "isInternetEnabled": false,
   "language": "python",
   "sourceType": "notebook"
  },
  "kernelspec": {
   "display_name": "Python 3",
   "language": "python",
   "name": "python3"
  },
  "language_info": {
   "codemirror_mode": {
    "name": "ipython",
    "version": 3
   },
   "file_extension": ".py",
   "mimetype": "text/x-python",
   "name": "python",
   "nbconvert_exporter": "python",
   "pygments_lexer": "ipython3",
   "version": "3.10.13"
  },
  "papermill": {
   "default_parameters": {},
   "duration": 7.412623,
   "end_time": "2024-05-03T14:55:31.057155",
   "environment_variables": {},
   "exception": null,
   "input_path": "__notebook__.ipynb",
   "output_path": "__notebook__.ipynb",
   "parameters": {},
   "start_time": "2024-05-03T14:55:23.644532",
   "version": "2.5.0"
  }
 },
 "nbformat": 4,
 "nbformat_minor": 5
}
